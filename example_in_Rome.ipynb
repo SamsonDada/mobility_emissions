{
 "cells": [
  {
   "cell_type": "code",
   "execution_count": 3,
   "metadata": {
    "slideshow": {
     "slide_type": "slide"
    }
   },
   "outputs": [],
   "source": [
    "import skmob\n",
    "import osmnx as ox"
   ]
  },
  {
   "cell_type": "markdown",
   "metadata": {
    "slideshow": {
     "slide_type": "skip"
    }
   },
   "source": [
    "### Loading input files...\n",
    "\n",
    "- some_trajectories_in_Rome is a TrajDataFrame with a little sample of trajectories of some vehicles moving in the center of Rome;\n",
    "- modelli_auto contains the vehicles' information from which the fuel_type will be extracted;\n",
    "- emission_functions contains the values for the emission functions\n",
    "- max_interval is the maximum time interval (in seconds) that one wants between each pair of points in the trajectories;\n",
    "- region is just the name of the region for which the road network is needed;\n",
    "- pollutant_to_plot is one of {'CO_2', 'NO_x', 'PM', 'VOC'}"
   ]
  },
  {
   "cell_type": "code",
   "execution_count": 4,
   "metadata": {
    "slideshow": {
     "slide_type": "subslide"
    }
   },
   "outputs": [],
   "source": [
    "###### Parameters here:\n",
    "path_to_input_file = './data/some_trajectories_in_Rome.json'\n",
    "path_to_table_with_info_on_vehicles = './data/modelli_auto.tar.xz'\n",
    "path_to_table_with_emission_functions = './data/emission_functions.csv'\n",
    "max_interval = 120\n",
    "region = 'Rome'\n",
    "pollutant_to_plot = 'CO_2' # one of: CO_2, NO_x, PM, VOC\n",
    "######"
   ]
  },
  {
   "cell_type": "code",
   "execution_count": 8,
   "metadata": {
    "slideshow": {
     "slide_type": "subslide"
    }
   },
   "outputs": [
    {
     "name": "stdout",
     "output_type": "stream",
     "text": [
      "Num of selected trajectories ('tid'): 1087\n",
      "Num of vehicles ('uid'): 68\n"
     ]
    },
    {
     "data": {
      "text/html": [
       "<div>\n",
       "<style scoped>\n",
       "    .dataframe tbody tr th:only-of-type {\n",
       "        vertical-align: middle;\n",
       "    }\n",
       "\n",
       "    .dataframe tbody tr th {\n",
       "        vertical-align: top;\n",
       "    }\n",
       "\n",
       "    .dataframe thead th {\n",
       "        text-align: right;\n",
       "    }\n",
       "</style>\n",
       "<table border=\"1\" class=\"dataframe\">\n",
       "  <thead>\n",
       "    <tr style=\"text-align: right;\">\n",
       "      <th></th>\n",
       "      <th>uid</th>\n",
       "      <th>tid</th>\n",
       "      <th>lat</th>\n",
       "      <th>lng</th>\n",
       "      <th>datetime</th>\n",
       "    </tr>\n",
       "  </thead>\n",
       "  <tbody>\n",
       "    <tr>\n",
       "      <th>122384</th>\n",
       "      <td>116559</td>\n",
       "      <td>109</td>\n",
       "      <td>41.889132</td>\n",
       "      <td>12.491207</td>\n",
       "      <td>2017-02-19 16:12:02</td>\n",
       "    </tr>\n",
       "    <tr>\n",
       "      <th>122814</th>\n",
       "      <td>116559</td>\n",
       "      <td>203</td>\n",
       "      <td>41.896708</td>\n",
       "      <td>12.487090</td>\n",
       "      <td>2017-04-07 19:26:22</td>\n",
       "    </tr>\n",
       "    <tr>\n",
       "      <th>122815</th>\n",
       "      <td>116559</td>\n",
       "      <td>204</td>\n",
       "      <td>41.896708</td>\n",
       "      <td>12.487090</td>\n",
       "      <td>2017-04-08 00:11:12</td>\n",
       "    </tr>\n",
       "    <tr>\n",
       "      <th>122816</th>\n",
       "      <td>116559</td>\n",
       "      <td>204</td>\n",
       "      <td>41.897440</td>\n",
       "      <td>12.495395</td>\n",
       "      <td>2017-04-08 00:18:37</td>\n",
       "    </tr>\n",
       "    <tr>\n",
       "      <th>122858</th>\n",
       "      <td>116559</td>\n",
       "      <td>214</td>\n",
       "      <td>41.897116</td>\n",
       "      <td>12.484191</td>\n",
       "      <td>2017-04-12 17:00:23</td>\n",
       "    </tr>\n",
       "  </tbody>\n",
       "</table>\n",
       "</div>"
      ],
      "text/plain": [
       "           uid  tid        lat        lng            datetime\n",
       "122384  116559  109  41.889132  12.491207 2017-02-19 16:12:02\n",
       "122814  116559  203  41.896708  12.487090 2017-04-07 19:26:22\n",
       "122815  116559  204  41.896708  12.487090 2017-04-08 00:11:12\n",
       "122816  116559  204  41.897440  12.495395 2017-04-08 00:18:37\n",
       "122858  116559  214  41.897116  12.484191 2017-04-12 17:00:23"
      ]
     },
     "execution_count": 8,
     "metadata": {},
     "output_type": "execute_result"
    }
   ],
   "source": [
    "### Loading tdf\n",
    "tdf = skmob.read(path_to_input_file)\n",
    "\n",
    "print(\"Num of selected trajectories ('tid'):\", len(set(tdf['tid'])))\n",
    "set_of_uid_in_input = set(tdf['uid'])\n",
    "num_of_uid_in_input = len(set_of_uid_in_input)\n",
    "print(\"Num of vehicles ('uid'):\", num_of_uid_in_input)\n",
    "tdf.drop(['tile_ID'], axis=1).head()  # (dropping column 'tileID', not needed here)"
   ]
  },
  {
   "cell_type": "markdown",
   "metadata": {},
   "source": [
    "### Filtering..."
   ]
  },
  {
   "cell_type": "markdown",
   "metadata": {},
   "source": [
    "#### 1. on time: \n",
    "    this retains only sub-trajectories composed by points that are distant not more than max_interval (in seconds) from each other;"
   ]
  },
  {
   "cell_type": "code",
   "execution_count": 9,
   "metadata": {
    "slideshow": {
     "slide_type": "slide"
    }
   },
   "outputs": [],
   "source": [
    "from filtering import *\n",
    "\n",
    "tdf_filtered_time = filter_on_time_interval(tdf, max_interval)"
   ]
  },
  {
   "cell_type": "markdown",
   "metadata": {},
   "source": [
    "#### 2. on speed: \n",
    "    this retains only points that have a value of speed not greater than max_speed_kmh;"
   ]
  },
  {
   "cell_type": "code",
   "execution_count": 10,
   "metadata": {},
   "outputs": [],
   "source": [
    "from skmob.preprocessing import filtering\n",
    "\n",
    "tdf_filtered_speed = filtering.filter(tdf_filtered_time, max_speed_kmh = 300)"
   ]
  },
  {
   "cell_type": "markdown",
   "metadata": {},
   "source": [
    "#### 3. on acceleration: \n",
    "    this retains only points that have a value of acceleration not greater than 10 m/s^2;"
   ]
  },
  {
   "cell_type": "code",
   "execution_count": 11,
   "metadata": {},
   "outputs": [],
   "source": [
    "from speed_and_acceleration import *\n",
    "\n",
    "tdf_with_speed_and_acc = compute_acceleration_from_tdf(tdf_filtered_speed)\n",
    "ftdf = tdf_with_speed_and_acc[tdf_with_speed_and_acc['acceleration'] < 10]"
   ]
  },
  {
   "cell_type": "code",
   "execution_count": 12,
   "metadata": {
    "scrolled": true,
    "slideshow": {
     "slide_type": "subslide"
    }
   },
   "outputs": [
    {
     "name": "stdout",
     "output_type": "stream",
     "text": [
      "There have been 57 'uid' lost in the filtering process.\n"
     ]
    },
    {
     "data": {
      "text/html": [
       "<div>\n",
       "<style scoped>\n",
       "    .dataframe tbody tr th:only-of-type {\n",
       "        vertical-align: middle;\n",
       "    }\n",
       "\n",
       "    .dataframe tbody tr th {\n",
       "        vertical-align: top;\n",
       "    }\n",
       "\n",
       "    .dataframe thead th {\n",
       "        text-align: right;\n",
       "    }\n",
       "</style>\n",
       "<table border=\"1\" class=\"dataframe\">\n",
       "  <thead>\n",
       "    <tr style=\"text-align: right;\">\n",
       "      <th></th>\n",
       "      <th>uid</th>\n",
       "      <th>tid</th>\n",
       "      <th>lat</th>\n",
       "      <th>lng</th>\n",
       "      <th>datetime</th>\n",
       "      <th>tile_ID</th>\n",
       "      <th>speed</th>\n",
       "      <th>acceleration</th>\n",
       "    </tr>\n",
       "  </thead>\n",
       "  <tbody>\n",
       "    <tr>\n",
       "      <th>0</th>\n",
       "      <td>21495</td>\n",
       "      <td>2455</td>\n",
       "      <td>41.892054</td>\n",
       "      <td>12.472375</td>\n",
       "      <td>2017-06-29 05:03:56</td>\n",
       "      <td>1390</td>\n",
       "      <td>0.00000</td>\n",
       "      <td>0.000000</td>\n",
       "    </tr>\n",
       "    <tr>\n",
       "      <th>1</th>\n",
       "      <td>21495</td>\n",
       "      <td>2455</td>\n",
       "      <td>41.892054</td>\n",
       "      <td>12.472375</td>\n",
       "      <td>2017-06-29 05:04:12</td>\n",
       "      <td>1390</td>\n",
       "      <td>0.00000</td>\n",
       "      <td>0.000000</td>\n",
       "    </tr>\n",
       "    <tr>\n",
       "      <th>2</th>\n",
       "      <td>21969</td>\n",
       "      <td>2660</td>\n",
       "      <td>41.892437</td>\n",
       "      <td>12.493278</td>\n",
       "      <td>2017-04-22 15:02:43</td>\n",
       "      <td>1507</td>\n",
       "      <td>0.00000</td>\n",
       "      <td>0.000000</td>\n",
       "    </tr>\n",
       "    <tr>\n",
       "      <th>3</th>\n",
       "      <td>21969</td>\n",
       "      <td>2660</td>\n",
       "      <td>41.892437</td>\n",
       "      <td>12.493278</td>\n",
       "      <td>2017-04-22 15:02:49</td>\n",
       "      <td>1507</td>\n",
       "      <td>0.00000</td>\n",
       "      <td>0.000000</td>\n",
       "    </tr>\n",
       "    <tr>\n",
       "      <th>4</th>\n",
       "      <td>64156</td>\n",
       "      <td>2731</td>\n",
       "      <td>41.894576</td>\n",
       "      <td>12.492762</td>\n",
       "      <td>2017-09-23 16:20:30</td>\n",
       "      <td>1507</td>\n",
       "      <td>0.00000</td>\n",
       "      <td>0.000000</td>\n",
       "    </tr>\n",
       "    <tr>\n",
       "      <th>5</th>\n",
       "      <td>64156</td>\n",
       "      <td>2731</td>\n",
       "      <td>41.894576</td>\n",
       "      <td>12.492762</td>\n",
       "      <td>2017-09-23 16:21:07</td>\n",
       "      <td>1507</td>\n",
       "      <td>0.00000</td>\n",
       "      <td>0.000000</td>\n",
       "    </tr>\n",
       "    <tr>\n",
       "      <th>6</th>\n",
       "      <td>64156</td>\n",
       "      <td>2731</td>\n",
       "      <td>41.894540</td>\n",
       "      <td>12.492749</td>\n",
       "      <td>2017-09-23 16:21:44</td>\n",
       "      <td>1507</td>\n",
       "      <td>0.11203</td>\n",
       "      <td>0.003028</td>\n",
       "    </tr>\n",
       "    <tr>\n",
       "      <th>7</th>\n",
       "      <td>64156</td>\n",
       "      <td>2731</td>\n",
       "      <td>41.894616</td>\n",
       "      <td>12.492765</td>\n",
       "      <td>2017-09-23 16:22:20</td>\n",
       "      <td>1507</td>\n",
       "      <td>0.23761</td>\n",
       "      <td>0.003488</td>\n",
       "    </tr>\n",
       "    <tr>\n",
       "      <th>8</th>\n",
       "      <td>92821</td>\n",
       "      <td>2709</td>\n",
       "      <td>41.887217</td>\n",
       "      <td>12.484794</td>\n",
       "      <td>2017-04-24 17:31:42</td>\n",
       "      <td>1448</td>\n",
       "      <td>0.00000</td>\n",
       "      <td>0.000000</td>\n",
       "    </tr>\n",
       "  </tbody>\n",
       "</table>\n",
       "</div>"
      ],
      "text/plain": [
       "     uid   tid        lat        lng            datetime  tile_ID    speed  \\\n",
       "0  21495  2455  41.892054  12.472375 2017-06-29 05:03:56     1390  0.00000   \n",
       "1  21495  2455  41.892054  12.472375 2017-06-29 05:04:12     1390  0.00000   \n",
       "2  21969  2660  41.892437  12.493278 2017-04-22 15:02:43     1507  0.00000   \n",
       "3  21969  2660  41.892437  12.493278 2017-04-22 15:02:49     1507  0.00000   \n",
       "4  64156  2731  41.894576  12.492762 2017-09-23 16:20:30     1507  0.00000   \n",
       "5  64156  2731  41.894576  12.492762 2017-09-23 16:21:07     1507  0.00000   \n",
       "6  64156  2731  41.894540  12.492749 2017-09-23 16:21:44     1507  0.11203   \n",
       "7  64156  2731  41.894616  12.492765 2017-09-23 16:22:20     1507  0.23761   \n",
       "8  92821  2709  41.887217  12.484794 2017-04-24 17:31:42     1448  0.00000   \n",
       "\n",
       "   acceleration  \n",
       "0      0.000000  \n",
       "1      0.000000  \n",
       "2      0.000000  \n",
       "3      0.000000  \n",
       "4      0.000000  \n",
       "5      0.000000  \n",
       "6      0.003028  \n",
       "7      0.003488  \n",
       "8      0.000000  "
      ]
     },
     "execution_count": 12,
     "metadata": {},
     "output_type": "execute_result"
    }
   ],
   "source": [
    "set_of_uid_final = set(ftdf['uid'])\n",
    "num_of_uid_final = len(set_of_uid_final)\n",
    "print('There have been', num_of_uid_in_input-num_of_uid_final, \"'uid' lost in the filtering process.\")\n",
    "ftdf.head(9)"
   ]
  },
  {
   "cell_type": "markdown",
   "metadata": {},
   "source": [
    "### Loading the road network..."
   ]
  },
  {
   "cell_type": "code",
   "execution_count": 13,
   "metadata": {
    "slideshow": {
     "slide_type": "slide"
    }
   },
   "outputs": [],
   "source": [
    "''' (This takes a bit longer...)\n",
    "region_name = region.lower().replace(\" \", \"_\")\n",
    "road_network = ox.graph_from_place(region, network_type = 'drive_service')\n",
    "'''\n",
    "\n",
    "# Taking a little road network centered in Piazza Venezia, Rome:\n",
    "road_network = ox.graph_from_point((41.895947, 12.483000), distance=1500, network_type = 'drive_service') # Roma (centered on Piazza Venezia)"
   ]
  },
  {
   "cell_type": "markdown",
   "metadata": {},
   "source": [
    "### Map-matching..."
   ]
  },
  {
   "cell_type": "code",
   "execution_count": 14,
   "metadata": {
    "slideshow": {
     "slide_type": "slide"
    }
   },
   "outputs": [
    {
     "data": {
      "text/html": [
       "<div>\n",
       "<style scoped>\n",
       "    .dataframe tbody tr th:only-of-type {\n",
       "        vertical-align: middle;\n",
       "    }\n",
       "\n",
       "    .dataframe tbody tr th {\n",
       "        vertical-align: top;\n",
       "    }\n",
       "\n",
       "    .dataframe thead th {\n",
       "        text-align: right;\n",
       "    }\n",
       "</style>\n",
       "<table border=\"1\" class=\"dataframe\">\n",
       "  <thead>\n",
       "    <tr style=\"text-align: right;\">\n",
       "      <th></th>\n",
       "      <th>uid</th>\n",
       "      <th>tid</th>\n",
       "      <th>lat</th>\n",
       "      <th>lng</th>\n",
       "      <th>datetime</th>\n",
       "      <th>tile_ID</th>\n",
       "      <th>speed</th>\n",
       "      <th>acceleration</th>\n",
       "      <th>road_link</th>\n",
       "    </tr>\n",
       "  </thead>\n",
       "  <tbody>\n",
       "    <tr>\n",
       "      <th>0</th>\n",
       "      <td>21495</td>\n",
       "      <td>2455</td>\n",
       "      <td>41.892054</td>\n",
       "      <td>12.472375</td>\n",
       "      <td>2017-06-29 05:03:56</td>\n",
       "      <td>1390</td>\n",
       "      <td>0.00000</td>\n",
       "      <td>0.000000</td>\n",
       "      <td>[1107548553, 25419843]</td>\n",
       "    </tr>\n",
       "    <tr>\n",
       "      <th>1</th>\n",
       "      <td>21495</td>\n",
       "      <td>2455</td>\n",
       "      <td>41.892054</td>\n",
       "      <td>12.472375</td>\n",
       "      <td>2017-06-29 05:04:12</td>\n",
       "      <td>1390</td>\n",
       "      <td>0.00000</td>\n",
       "      <td>0.000000</td>\n",
       "      <td>[1107548553, 25419843]</td>\n",
       "    </tr>\n",
       "    <tr>\n",
       "      <th>2</th>\n",
       "      <td>21969</td>\n",
       "      <td>2660</td>\n",
       "      <td>41.892437</td>\n",
       "      <td>12.493278</td>\n",
       "      <td>2017-04-22 15:02:43</td>\n",
       "      <td>1507</td>\n",
       "      <td>0.00000</td>\n",
       "      <td>0.000000</td>\n",
       "      <td>[246144912, 246144858]</td>\n",
       "    </tr>\n",
       "    <tr>\n",
       "      <th>3</th>\n",
       "      <td>21969</td>\n",
       "      <td>2660</td>\n",
       "      <td>41.892437</td>\n",
       "      <td>12.493278</td>\n",
       "      <td>2017-04-22 15:02:49</td>\n",
       "      <td>1507</td>\n",
       "      <td>0.00000</td>\n",
       "      <td>0.000000</td>\n",
       "      <td>[246144912, 246144858]</td>\n",
       "    </tr>\n",
       "    <tr>\n",
       "      <th>4</th>\n",
       "      <td>64156</td>\n",
       "      <td>2731</td>\n",
       "      <td>41.894576</td>\n",
       "      <td>12.492762</td>\n",
       "      <td>2017-09-23 16:20:30</td>\n",
       "      <td>1507</td>\n",
       "      <td>0.00000</td>\n",
       "      <td>0.000000</td>\n",
       "      <td>[246142109, 25418929]</td>\n",
       "    </tr>\n",
       "    <tr>\n",
       "      <th>5</th>\n",
       "      <td>64156</td>\n",
       "      <td>2731</td>\n",
       "      <td>41.894576</td>\n",
       "      <td>12.492762</td>\n",
       "      <td>2017-09-23 16:21:07</td>\n",
       "      <td>1507</td>\n",
       "      <td>0.00000</td>\n",
       "      <td>0.000000</td>\n",
       "      <td>[246142109, 25418929]</td>\n",
       "    </tr>\n",
       "    <tr>\n",
       "      <th>6</th>\n",
       "      <td>64156</td>\n",
       "      <td>2731</td>\n",
       "      <td>41.894540</td>\n",
       "      <td>12.492749</td>\n",
       "      <td>2017-09-23 16:21:44</td>\n",
       "      <td>1507</td>\n",
       "      <td>0.11203</td>\n",
       "      <td>0.003028</td>\n",
       "      <td>[246142109, 25418929]</td>\n",
       "    </tr>\n",
       "    <tr>\n",
       "      <th>7</th>\n",
       "      <td>64156</td>\n",
       "      <td>2731</td>\n",
       "      <td>41.894616</td>\n",
       "      <td>12.492765</td>\n",
       "      <td>2017-09-23 16:22:20</td>\n",
       "      <td>1507</td>\n",
       "      <td>0.23761</td>\n",
       "      <td>0.003488</td>\n",
       "      <td>[246142109, 25418929]</td>\n",
       "    </tr>\n",
       "    <tr>\n",
       "      <th>8</th>\n",
       "      <td>92821</td>\n",
       "      <td>2709</td>\n",
       "      <td>41.887217</td>\n",
       "      <td>12.484794</td>\n",
       "      <td>2017-04-24 17:31:42</td>\n",
       "      <td>1448</td>\n",
       "      <td>0.00000</td>\n",
       "      <td>0.000000</td>\n",
       "      <td>[269277049, 32650405]</td>\n",
       "    </tr>\n",
       "  </tbody>\n",
       "</table>\n",
       "</div>"
      ],
      "text/plain": [
       "     uid   tid        lat        lng            datetime  tile_ID    speed  \\\n",
       "0  21495  2455  41.892054  12.472375 2017-06-29 05:03:56     1390  0.00000   \n",
       "1  21495  2455  41.892054  12.472375 2017-06-29 05:04:12     1390  0.00000   \n",
       "2  21969  2660  41.892437  12.493278 2017-04-22 15:02:43     1507  0.00000   \n",
       "3  21969  2660  41.892437  12.493278 2017-04-22 15:02:49     1507  0.00000   \n",
       "4  64156  2731  41.894576  12.492762 2017-09-23 16:20:30     1507  0.00000   \n",
       "5  64156  2731  41.894576  12.492762 2017-09-23 16:21:07     1507  0.00000   \n",
       "6  64156  2731  41.894540  12.492749 2017-09-23 16:21:44     1507  0.11203   \n",
       "7  64156  2731  41.894616  12.492765 2017-09-23 16:22:20     1507  0.23761   \n",
       "8  92821  2709  41.887217  12.484794 2017-04-24 17:31:42     1448  0.00000   \n",
       "\n",
       "   acceleration               road_link  \n",
       "0      0.000000  [1107548553, 25419843]  \n",
       "1      0.000000  [1107548553, 25419843]  \n",
       "2      0.000000  [246144912, 246144858]  \n",
       "3      0.000000  [246144912, 246144858]  \n",
       "4      0.000000   [246142109, 25418929]  \n",
       "5      0.000000   [246142109, 25418929]  \n",
       "6      0.003028   [246142109, 25418929]  \n",
       "7      0.003488   [246142109, 25418929]  \n",
       "8      0.000000   [269277049, 32650405]  "
      ]
     },
     "execution_count": 14,
     "metadata": {},
     "output_type": "execute_result"
    }
   ],
   "source": [
    "from map_matching import *\n",
    "\n",
    "ftdf_final = find_nearest_edges_in_network(road_network, ftdf, return_tdf_with_new_col=True)\n",
    "ftdf_final.head(9)"
   ]
  },
  {
   "cell_type": "markdown",
   "metadata": {},
   "source": [
    "### Computing emissions..."
   ]
  },
  {
   "cell_type": "markdown",
   "metadata": {},
   "source": [
    "- loading information on fuel types and emission functions:"
   ]
  },
  {
   "cell_type": "code",
   "execution_count": 15,
   "metadata": {},
   "outputs": [
    {
     "data": {
      "text/html": [
       "<div>\n",
       "<style scoped>\n",
       "    .dataframe tbody tr th:only-of-type {\n",
       "        vertical-align: middle;\n",
       "    }\n",
       "\n",
       "    .dataframe tbody tr th {\n",
       "        vertical-align: top;\n",
       "    }\n",
       "\n",
       "    .dataframe thead th {\n",
       "        text-align: right;\n",
       "    }\n",
       "</style>\n",
       "<table border=\"1\" class=\"dataframe\">\n",
       "  <thead>\n",
       "    <tr style=\"text-align: right;\">\n",
       "      <th></th>\n",
       "      <th>vid</th>\n",
       "      <th>manufacturer</th>\n",
       "      <th>type</th>\n",
       "    </tr>\n",
       "  </thead>\n",
       "  <tbody>\n",
       "    <tr>\n",
       "      <th>0</th>\n",
       "      <td>1</td>\n",
       "      <td>PEUGEOT</td>\n",
       "      <td>106 106 954I CAT 3 PORTE XN</td>\n",
       "    </tr>\n",
       "    <tr>\n",
       "      <th>1</th>\n",
       "      <td>2</td>\n",
       "      <td>FIAT</td>\n",
       "      <td>SEICENTO SEICENTO</td>\n",
       "    </tr>\n",
       "    <tr>\n",
       "      <th>2</th>\n",
       "      <td>3</td>\n",
       "      <td>FIAT</td>\n",
       "      <td>SEICENTO SEICENTO</td>\n",
       "    </tr>\n",
       "    <tr>\n",
       "      <th>3</th>\n",
       "      <td>4</td>\n",
       "      <td>MINI</td>\n",
       "      <td>MINI COUNTRYMAN R60 MINI 2.0 COOPER D COUNTRYM...</td>\n",
       "    </tr>\n",
       "    <tr>\n",
       "      <th>4</th>\n",
       "      <td>5</td>\n",
       "      <td>FIAT</td>\n",
       "      <td>SEICENTO SEICENTO 1.1I CAT SPORTING</td>\n",
       "    </tr>\n",
       "  </tbody>\n",
       "</table>\n",
       "</div>"
      ],
      "text/plain": [
       "   vid manufacturer                                               type\n",
       "0    1      PEUGEOT                        106 106 954I CAT 3 PORTE XN\n",
       "1    2         FIAT                                  SEICENTO SEICENTO\n",
       "2    3         FIAT                                  SEICENTO SEICENTO\n",
       "3    4         MINI  MINI COUNTRYMAN R60 MINI 2.0 COOPER D COUNTRYM...\n",
       "4    5         FIAT                SEICENTO SEICENTO 1.1I CAT SPORTING"
      ]
     },
     "execution_count": 15,
     "metadata": {},
     "output_type": "execute_result"
    }
   ],
   "source": [
    "from emissions import *\n",
    "import tarfile\n",
    "\n",
    "tar = tarfile.open(path_to_table_with_info_on_vehicles, \"r:xz\")\n",
    "for x in tar.getmembers():\n",
    "    file = tar.extractfile(x)\n",
    "    modelli_auto = pd.read_csv(file, names=['vid', 'manufacturer', 'type'], usecols = [0,1,2])\n",
    "\n",
    "modelli_auto.head()"
   ]
  },
  {
   "cell_type": "code",
   "execution_count": 16,
   "metadata": {
    "slideshow": {
     "slide_type": "slide"
    }
   },
   "outputs": [],
   "source": [
    "emissions = pd.read_csv(path_to_table_with_emission_functions)"
   ]
  },
  {
   "cell_type": "markdown",
   "metadata": {},
   "source": [
    "- from modelli_auto, selecting only the vehicles that are in our filtered tdf:"
   ]
  },
  {
   "cell_type": "code",
   "execution_count": 17,
   "metadata": {
    "slideshow": {
     "slide_type": "fragment"
    }
   },
   "outputs": [],
   "source": [
    "df_vehicles_info = modelli_auto.loc[modelli_auto['vid'].isin(set_of_uid_final)]"
   ]
  },
  {
   "cell_type": "markdown",
   "metadata": {},
   "source": [
    "- matching each of the selected vehicle with its fuel type:"
   ]
  },
  {
   "cell_type": "code",
   "execution_count": 18,
   "metadata": {
    "slideshow": {
     "slide_type": "subslide"
    }
   },
   "outputs": [],
   "source": [
    "dict_vehicle_fuel_type = match_vehicle_to_fuel_type(ftdf_final, modelli_auto, ['PETROL', 'DIESEL', 'LPG'])"
   ]
  },
  {
   "cell_type": "markdown",
   "metadata": {},
   "source": [
    "- finally computing emissions:"
   ]
  },
  {
   "cell_type": "code",
   "execution_count": 19,
   "metadata": {
    "slideshow": {
     "slide_type": "fragment"
    }
   },
   "outputs": [
    {
     "data": {
      "text/html": [
       "<div>\n",
       "<style scoped>\n",
       "    .dataframe tbody tr th:only-of-type {\n",
       "        vertical-align: middle;\n",
       "    }\n",
       "\n",
       "    .dataframe tbody tr th {\n",
       "        vertical-align: top;\n",
       "    }\n",
       "\n",
       "    .dataframe thead th {\n",
       "        text-align: right;\n",
       "    }\n",
       "</style>\n",
       "<table border=\"1\" class=\"dataframe\">\n",
       "  <thead>\n",
       "    <tr style=\"text-align: right;\">\n",
       "      <th></th>\n",
       "      <th>uid</th>\n",
       "      <th>tid</th>\n",
       "      <th>lat</th>\n",
       "      <th>lng</th>\n",
       "      <th>datetime</th>\n",
       "      <th>tile_ID</th>\n",
       "      <th>speed</th>\n",
       "      <th>acceleration</th>\n",
       "      <th>road_link</th>\n",
       "      <th>NO_x</th>\n",
       "      <th>CO_2</th>\n",
       "      <th>PM</th>\n",
       "      <th>VOC</th>\n",
       "    </tr>\n",
       "  </thead>\n",
       "  <tbody>\n",
       "    <tr>\n",
       "      <th>0</th>\n",
       "      <td>21495</td>\n",
       "      <td>2455</td>\n",
       "      <td>41.892054</td>\n",
       "      <td>12.472375</td>\n",
       "      <td>2017-06-29 05:03:56</td>\n",
       "      <td>1390</td>\n",
       "      <td>0.00000</td>\n",
       "      <td>0.000000</td>\n",
       "      <td>[1107548553, 25419843]</td>\n",
       "      <td>0.000619</td>\n",
       "      <td>0.553000</td>\n",
       "      <td>0.000000</td>\n",
       "      <td>0.00447</td>\n",
       "    </tr>\n",
       "    <tr>\n",
       "      <th>1</th>\n",
       "      <td>21495</td>\n",
       "      <td>2455</td>\n",
       "      <td>41.892054</td>\n",
       "      <td>12.472375</td>\n",
       "      <td>2017-06-29 05:04:12</td>\n",
       "      <td>1390</td>\n",
       "      <td>0.00000</td>\n",
       "      <td>0.000000</td>\n",
       "      <td>[1107548553, 25419843]</td>\n",
       "      <td>0.000619</td>\n",
       "      <td>0.553000</td>\n",
       "      <td>0.000000</td>\n",
       "      <td>0.00447</td>\n",
       "    </tr>\n",
       "    <tr>\n",
       "      <th>2</th>\n",
       "      <td>21969</td>\n",
       "      <td>2660</td>\n",
       "      <td>41.892437</td>\n",
       "      <td>12.493278</td>\n",
       "      <td>2017-04-22 15:02:43</td>\n",
       "      <td>1507</td>\n",
       "      <td>0.00000</td>\n",
       "      <td>0.000000</td>\n",
       "      <td>[246144912, 246144858]</td>\n",
       "      <td>0.000619</td>\n",
       "      <td>0.553000</td>\n",
       "      <td>0.000000</td>\n",
       "      <td>0.00447</td>\n",
       "    </tr>\n",
       "    <tr>\n",
       "      <th>3</th>\n",
       "      <td>21969</td>\n",
       "      <td>2660</td>\n",
       "      <td>41.892437</td>\n",
       "      <td>12.493278</td>\n",
       "      <td>2017-04-22 15:02:49</td>\n",
       "      <td>1507</td>\n",
       "      <td>0.00000</td>\n",
       "      <td>0.000000</td>\n",
       "      <td>[246144912, 246144858]</td>\n",
       "      <td>0.000619</td>\n",
       "      <td>0.553000</td>\n",
       "      <td>0.000000</td>\n",
       "      <td>0.00447</td>\n",
       "    </tr>\n",
       "    <tr>\n",
       "      <th>4</th>\n",
       "      <td>64156</td>\n",
       "      <td>2731</td>\n",
       "      <td>41.894576</td>\n",
       "      <td>12.492762</td>\n",
       "      <td>2017-09-23 16:20:30</td>\n",
       "      <td>1507</td>\n",
       "      <td>0.00000</td>\n",
       "      <td>0.000000</td>\n",
       "      <td>[246142109, 25418929]</td>\n",
       "      <td>0.000619</td>\n",
       "      <td>0.553000</td>\n",
       "      <td>0.000000</td>\n",
       "      <td>0.00447</td>\n",
       "    </tr>\n",
       "    <tr>\n",
       "      <th>5</th>\n",
       "      <td>64156</td>\n",
       "      <td>2731</td>\n",
       "      <td>41.894576</td>\n",
       "      <td>12.492762</td>\n",
       "      <td>2017-09-23 16:21:07</td>\n",
       "      <td>1507</td>\n",
       "      <td>0.00000</td>\n",
       "      <td>0.000000</td>\n",
       "      <td>[246142109, 25418929]</td>\n",
       "      <td>0.000619</td>\n",
       "      <td>0.553000</td>\n",
       "      <td>0.000000</td>\n",
       "      <td>0.00447</td>\n",
       "    </tr>\n",
       "    <tr>\n",
       "      <th>6</th>\n",
       "      <td>64156</td>\n",
       "      <td>2731</td>\n",
       "      <td>41.894540</td>\n",
       "      <td>12.492749</td>\n",
       "      <td>2017-09-23 16:21:44</td>\n",
       "      <td>1507</td>\n",
       "      <td>0.11203</td>\n",
       "      <td>0.003028</td>\n",
       "      <td>[246142109, 25418929]</td>\n",
       "      <td>0.000627</td>\n",
       "      <td>0.571873</td>\n",
       "      <td>0.000002</td>\n",
       "      <td>0.00447</td>\n",
       "    </tr>\n",
       "    <tr>\n",
       "      <th>7</th>\n",
       "      <td>64156</td>\n",
       "      <td>2731</td>\n",
       "      <td>41.894616</td>\n",
       "      <td>12.492765</td>\n",
       "      <td>2017-09-23 16:22:20</td>\n",
       "      <td>1507</td>\n",
       "      <td>0.23761</td>\n",
       "      <td>0.003488</td>\n",
       "      <td>[246142109, 25418929]</td>\n",
       "      <td>0.000636</td>\n",
       "      <td>0.592178</td>\n",
       "      <td>0.000004</td>\n",
       "      <td>0.00447</td>\n",
       "    </tr>\n",
       "    <tr>\n",
       "      <th>8</th>\n",
       "      <td>92821</td>\n",
       "      <td>2709</td>\n",
       "      <td>41.887217</td>\n",
       "      <td>12.484794</td>\n",
       "      <td>2017-04-24 17:31:42</td>\n",
       "      <td>1448</td>\n",
       "      <td>0.00000</td>\n",
       "      <td>0.000000</td>\n",
       "      <td>[269277049, 32650405]</td>\n",
       "      <td>0.000619</td>\n",
       "      <td>0.553000</td>\n",
       "      <td>0.000000</td>\n",
       "      <td>0.00447</td>\n",
       "    </tr>\n",
       "  </tbody>\n",
       "</table>\n",
       "</div>"
      ],
      "text/plain": [
       "     uid   tid        lat        lng            datetime  tile_ID    speed  \\\n",
       "0  21495  2455  41.892054  12.472375 2017-06-29 05:03:56     1390  0.00000   \n",
       "1  21495  2455  41.892054  12.472375 2017-06-29 05:04:12     1390  0.00000   \n",
       "2  21969  2660  41.892437  12.493278 2017-04-22 15:02:43     1507  0.00000   \n",
       "3  21969  2660  41.892437  12.493278 2017-04-22 15:02:49     1507  0.00000   \n",
       "4  64156  2731  41.894576  12.492762 2017-09-23 16:20:30     1507  0.00000   \n",
       "5  64156  2731  41.894576  12.492762 2017-09-23 16:21:07     1507  0.00000   \n",
       "6  64156  2731  41.894540  12.492749 2017-09-23 16:21:44     1507  0.11203   \n",
       "7  64156  2731  41.894616  12.492765 2017-09-23 16:22:20     1507  0.23761   \n",
       "8  92821  2709  41.887217  12.484794 2017-04-24 17:31:42     1448  0.00000   \n",
       "\n",
       "   acceleration               road_link      NO_x      CO_2        PM      VOC  \n",
       "0      0.000000  [1107548553, 25419843]  0.000619  0.553000  0.000000  0.00447  \n",
       "1      0.000000  [1107548553, 25419843]  0.000619  0.553000  0.000000  0.00447  \n",
       "2      0.000000  [246144912, 246144858]  0.000619  0.553000  0.000000  0.00447  \n",
       "3      0.000000  [246144912, 246144858]  0.000619  0.553000  0.000000  0.00447  \n",
       "4      0.000000   [246142109, 25418929]  0.000619  0.553000  0.000000  0.00447  \n",
       "5      0.000000   [246142109, 25418929]  0.000619  0.553000  0.000000  0.00447  \n",
       "6      0.003028   [246142109, 25418929]  0.000627  0.571873  0.000002  0.00447  \n",
       "7      0.003488   [246142109, 25418929]  0.000636  0.592178  0.000004  0.00447  \n",
       "8      0.000000   [269277049, 32650405]  0.000619  0.553000  0.000000  0.00447  "
      ]
     },
     "execution_count": 19,
     "metadata": {},
     "output_type": "execute_result"
    }
   ],
   "source": [
    "tdf_with_emissions = compute_emissions(ftdf_final, emissions, dict_vehicle_fuel_type)\n",
    "tdf_with_emissions.head(9)"
   ]
  },
  {
   "cell_type": "markdown",
   "metadata": {},
   "source": [
    "### Plotting results..."
   ]
  },
  {
   "cell_type": "code",
   "execution_count": 20,
   "metadata": {
    "slideshow": {
     "slide_type": "subslide"
    }
   },
   "outputs": [
    {
     "data": {
      "image/png": "[encoded data removed]",
      "text/plain": [
       "<Figure size 569.847x432 with 1 Axes>"
      ]
     },
     "metadata": {},
     "output_type": "display_data"
    }
   ],
   "source": [
    "from plot import *\n",
    "\n",
    "fig, ax = plot_road_network_with_emissions(tdf_with_emissions, road_network, \n",
    "                                           name_of_pollutant = pollutant_to_plot, save_fig=False)"
   ]
  }
 ],
 "metadata": {
  "kernelspec": {
   "display_name": "Python (skmob)",
   "language": "python",
   "name": "skmob"
  },
  "language_info": {
   "codemirror_mode": {
    "name": "ipython",
    "version": 3
   },
   "file_extension": ".py",
   "mimetype": "text/x-python",
   "name": "python",
   "nbconvert_exporter": "python",
   "pygments_lexer": "ipython3",
   "version": "3.7.6"
  }
 },
 "nbformat": 4,
 "nbformat_minor": 4
}
